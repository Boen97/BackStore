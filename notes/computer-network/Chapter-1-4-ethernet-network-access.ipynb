{
 "cells": [
  {
   "cell_type": "markdown",
   "metadata": {},
   "source": [
    "> 使用本地局域网(local area network)将终端连接到 （edge router）\n",
    "> 最常见的局域网技术为Ethernet"
   ]
  },
  {
   "cell_type": "markdown",
   "metadata": {},
   "source": [
    "- Ethernet switch\n",
    "\n",
    "  > 由以太网交换机组成的局域网去访问互联网\n",
    "  > 本地局域网之间的数据传输更快且更安全"
   ]
  },
  {
   "cell_type": "markdown",
   "metadata": {},
   "source": [
    "- base station (the wireless access point)"
   ]
  },
  {
   "cell_type": "markdown",
   "metadata": {},
   "source": [
    "- Wide-Area Wireless Access 广域无线连接 蜂窝网络 4G 5G"
   ]
  }
 ],
 "metadata": {
  "language_info": {
   "name": "python"
  },
  "orig_nbformat": 4
 },
 "nbformat": 4,
 "nbformat_minor": 2
}

{
 "cells": [
  {
   "cell_type": "markdown",
   "metadata": {},
   "source": [
    "三大测量网络性能的指标：\n",
    "1. delay\n",
    "2. packet loss\n",
    "3. end to end throughput"
   ]
  },
  {
   "cell_type": "markdown",
   "metadata": {},
   "source": []
  }
 ],
 "metadata": {
  "language_info": {
   "name": "python"
  },
  "orig_nbformat": 4
 },
 "nbformat": 4,
 "nbformat_minor": 2
}

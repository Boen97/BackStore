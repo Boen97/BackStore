{
 "cells": [
  {
   "cell_type": "markdown",
   "metadata": {},
   "source": [
    "三大测量网络性能的指标：\n",
    "1. delay\n",
    "2. packet loss\n",
    "3. end to end throughput"
   ]
  },
  {
   "cell_type": "markdown",
   "metadata": {},
   "source": [
    "bottleneck link."
   ]
  },
  {
   "cell_type": "markdown",
   "metadata": {},
   "source": [
    "实际网络的吞吐量由 bottleneck link 和 实际的网络流量决定"
   ]
  },
  {
   "cell_type": "markdown",
   "metadata": {},
   "source": [
    "一条高速且共享的链路，当被多个终端共享时，仍然可能成为 bottleneck link"
   ]
  },
  {
   "cell_type": "markdown",
   "metadata": {},
   "source": [
    "对于下载的应用来说，吞吐量往往比延迟更重要，因为吞吐量大意味着能传输更多的数据"
   ]
  }
 ],
 "metadata": {
  "language_info": {
   "name": "python"
  },
  "orig_nbformat": 4
 },
 "nbformat": 4,
 "nbformat_minor": 2
}

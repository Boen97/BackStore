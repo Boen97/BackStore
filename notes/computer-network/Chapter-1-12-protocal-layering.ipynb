{
 "cells": [
  {
   "cell_type": "markdown",
   "metadata": {},
   "source": [
    "Service model"
   ]
  },
  {
   "cell_type": "markdown",
   "metadata": {},
   "source": [
    "在互联网的每个组件都可以见到协议的身影"
   ]
  },
  {
   "cell_type": "markdown",
   "metadata": {},
   "source": [
    "Protocal Stack"
   ]
  },
  {
   "cell_type": "markdown",
   "metadata": {},
   "source": [
    "分层存在的缺点就是分层往往没有那么清晰，层与层之间的界限往往并没有那么清晰，不过相比于带来的好处可以忽略不计"
   ]
  },
  {
   "cell_type": "markdown",
   "metadata": {},
   "source": [
    "Application Layer\n",
    "\n",
    "- 由 Application 和该层对应的协议组成\n",
    "- HTTP 传输web文件\n",
    "- SMTP 传送邮件\n",
    "- FTP 传输文件\n",
    "- DNS (domain name system)\n",
    "- 应用层的协议通常由多个终端共同参与\n",
    "- **message** 将应用层传递的信息成为 message"
   ]
  },
  {
   "cell_type": "markdown",
   "metadata": {},
   "source": [
    "Transport Layer\n",
    "\n",
    "- 在 **application endpoints** 传输 application message\n",
    "  >一定要注意，传输层对接的是**应用**，而网络层是**Host**\n",
    "- segment transport layer packet\n",
    "- 传输应用层的消息 message\n",
    "- TCP\n",
    "  - 面向连接的\n",
    "  - 可靠的，保证将应用层的消息传送到目的地\n",
    "  - flow control 接受方和发送方速度匹配\n",
    "  - breaks long message info shorter segments\n",
    "  - 提供拥塞控制 congestion control, 当网络出现拥堵时，源可以抑制它的传输速率\n",
    "  - 流量控制和用塞控制看起来很像，但其实考虑两个使用的场景，就会发现是两个不同的功能\n",
    "    流量控制主要目的地是控制流量，而用塞控制是网络出现拥堵时所采用的一种被动策略\n",
    "- UDP\n",
    "  - 提供最基本的传输功能\n",
    "  - 不可靠的\n",
    "  - 没有流量控制\n",
    "  - 没有用塞控制"
   ]
  },
  {
   "cell_type": "markdown",
   "metadata": {},
   "source": [
    "Network Layer\n",
    "\n",
    "- moving **datagrams** from one **host** to another\n",
    "- IP 协议\n",
    "  > 定义了数据包中的字段，以及终端和路由器如何对这些字段进行操作\n",
    "  - 所有运行网络层的设备都必须运行 IP 协议\n",
    "- 路由协议\n",
    "- IP 协议就像是互联网的粘合剂，将所有的设备都联系在了一起\n",
    "- 网络层协议负责端到端，传输层协议负责应用到应用，因此很自然的路由协议属于网络层协议的一部分"
   ]
  },
  {
   "cell_type": "markdown",
   "metadata": {},
   "source": [
    "Link Layer\n",
    "\n",
    "- move entire frames from one network element to an adjacent network element 将帧从一个网络单元移送到另一个相邻的网络单元\n",
    "- 链路层顾名思义是在链路上进行的协议，常见的有 Ethernet, WIFI, the cable access network’s DOCSIS protocol.\n",
    "- 网络层依赖链路层提供的服务\n",
    "- 有的链路层协议能提供可靠传输，但是与TCP所提供的可靠传输不同，TCP提供的是端到端的可靠传输\n",
    "- link layer packets 称为 frames"
   ]
  },
  {
   "cell_type": "markdown",
   "metadata": {},
   "source": [
    "Physical Layer\n",
    "\n",
    "- move the **individual bits within the frame** from one node to the next.\n",
    "- 不同的传输媒介运行不同的物理层协议"
   ]
  },
  {
   "cell_type": "markdown",
   "metadata": {},
   "source": [
    "Encapsulation\n",
    "\n",
    "- 每一层都会 encapsulation 或者 de-capsulation 来自上层或者下层的数据\n",
    "- 互联网将复杂性留在的网络边缘，因为中间的组件，例如路由器和链路层交换机只实现底部的几层协议\n",
    "- 在每一层，每个 packet 分为 header fields 和 payload field"
   ]
  }
 ],
 "metadata": {
  "language_info": {
   "name": "python"
  },
  "orig_nbformat": 4
 },
 "nbformat": 4,
 "nbformat_minor": 2
}

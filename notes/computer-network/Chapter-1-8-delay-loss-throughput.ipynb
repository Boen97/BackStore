{
 "cells": [
  {
   "cell_type": "markdown",
   "metadata": {},
   "source": [
    "Throughput 每一秒可以传输的数据量"
   ]
  },
  {
   "cell_type": "markdown",
   "metadata": {},
   "source": [
    "Types of delay\n",
    "\n",
    "1. processing delay\n",
    "2. queuing delay\n",
    "3. transmission delay\n",
    "4. propogation delay"
   ]
  },
  {
   "cell_type": "markdown",
   "metadata": {},
   "source": [
    "Processing Delay\n",
    "\n",
    "1. 解析包的头信息，将其转发到对应的 outbound link\n",
    "2. 其中包括检测bit级别的传输错误\n",
    "3. 处理时间通常在微妙或者更少\n",
    "4. 1 秒 = 1000 毫秒 = 10的6次方微秒"
   ]
  },
  {
   "cell_type": "markdown",
   "metadata": {},
   "source": [
    "Queuing Delays\n",
    "\n",
    "1. 在 output buffer 中等待被传输\n",
    "2. 通常在微妙到毫秒之间\n",
    "3. 实际的延迟与实际的网络拥堵程度相关"
   ]
  },
  {
   "cell_type": "markdown",
   "metadata": {},
   "source": [
    "Transmission Delay\n",
    "\n",
    "1. 10Mbps Ethernet link 传输速率为 R = 10Mbps\n",
    "2. delay = L / R\n",
    "3. 通常在微妙到毫秒之间\n"
   ]
  },
  {
   "cell_type": "markdown",
   "metadata": {},
   "source": [
    "Propogation Delay\n",
    "\n",
    "1. 实际的传播速度类似于光速，速度差不多在 20万公里每秒 到 30万公里每秒\n",
    "2. 通常在毫秒级"
   ]
  },
  {
   "cell_type": "markdown",
   "metadata": {},
   "source": [
    "D(total nodal delay) = processing delay + queuing delay + transmission delay + propogation delay"
   ]
  },
  {
   "cell_type": "markdown",
   "metadata": {},
   "source": [
    "不同情况下，每个不同的延迟都会呈现出巨大的不同\n",
    "1. 例如不同规格的 Ethernet link 10Mbps 和 100Mbps 会导致 transmission delay 有很大的不同\n",
    "2. processing delay 会影响一个路由器的实际吞吐量"
   ]
  },
  {
   "cell_type": "markdown",
   "metadata": {},
   "source": [
    "Queuing Delay 最重要也是最复杂的 Delay\n",
    "\n",
    "- traffic intensity 流量强度指标 La/R\n",
    "  - L 每个包的大小为 L bits\n",
    "  - a 平均有 a packets /s 的包到达路由器\n",
    "  - R transimission rate\n",
    "\n",
    "- 由于实际的排队延迟与实际到达的流浪性质有关，例如流量是周期性的，还是突发性的，通常情况下的流量是随机性的\n",
    "- 我们通常用平均排队时间来描述 queuing delay\n",
    "- 当 La/R 越趋近于1，平均排队延迟将以指数型的增长"
   ]
  },
  {
   "cell_type": "markdown",
   "metadata": {},
   "source": [
    "在现实中，路由器的 output queue 的容量是有限的"
   ]
  },
  {
   "cell_type": "markdown",
   "metadata": {},
   "source": [
    "描述网络性能的两大指标：delay + packet loss"
   ]
  }
 ],
 "metadata": {
  "language_info": {
   "name": "python"
  },
  "orig_nbformat": 4
 },
 "nbformat": 4,
 "nbformat_minor": 2
}

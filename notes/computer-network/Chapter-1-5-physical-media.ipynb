{
 "cells": [
  {
   "cell_type": "markdown",
   "metadata": {},
   "source": [
    "1. HFC 使用的媒介有光纤和同轴电缆\n",
    "2. DSL 和 Ethernet 使用铜线\n",
    "3. 手机无线网使用无线电"
   ]
  },
  {
   "cell_type": "markdown",
   "metadata": {},
   "source": [
    "物理媒介主要分为两个种类\n",
    "  1. guided media 导向型媒介 例如同轴电缆，双绞线\n",
    "  2. unguided media 非导向性媒介 例如无线网络，数字卫星"
   ]
  },
  {
   "cell_type": "markdown",
   "metadata": {},
   "source": [
    "一般guided media的材料成本较低，主要成本在人工成本上，因此开发商为了节约人工成本，通常会同时安装 双绞线，同轴电缆和光纤"
   ]
  },
  {
   "cell_type": "markdown",
   "metadata": {},
   "source": [
    "Twisted-Pair Copper Wire 双绞铜线\n",
    "\n",
    "- 成本最低，使用范围最广\n",
    "- 在电话网络中使用了100多年\n",
    "- 双绞线由两根绝缘铜线组成，每根大约1毫米，呈规则的螺旋状排列\n",
    "- 双绞线能够有效地减少周围的电磁干扰\n",
    "- 通常情况下一根电缆由多对双绞铜线组成，一对导线是一条通信链路\n",
    "- Unshielded twisted pair (UTP) 非屏蔽双绞线 主要用于局域网，使用双绞线的局域网速率在 10 Mbps 到 10 Gbps\n",
    "- 实际的双绞线的传输速率还和铜线的粗细以及传输的距离有关\n",
    "- 双绞线是高速局域网的主要解决方案\n",
    "- 6a类的双绞线能够达到10 Gbps 的传输速率\n"
   ]
  },
  {
   "cell_type": "markdown",
   "metadata": {},
   "source": [
    "Coaxial Cable 同轴电缆\n",
    "\n",
    "- 由两根同心的铜导体组成\n",
    "- 有特殊的绝缘性和屏蔽性，可以实现较高的网络传输速率\n",
    "- 同轴电缆在有线电视系统中很常见\n",
    "- 同轴电缆是一种共享媒介"
   ]
  }
 ],
 "metadata": {
  "language_info": {
   "name": "python"
  },
  "orig_nbformat": 4
 },
 "nbformat": 4,
 "nbformat_minor": 2
}

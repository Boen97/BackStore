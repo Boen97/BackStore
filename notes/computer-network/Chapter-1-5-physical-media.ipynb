{
 "cells": [
  {
   "cell_type": "markdown",
   "metadata": {},
   "source": [
    "1. HFC 使用的媒介有光纤和同轴电缆\n",
    "2. DSL 和 Ethernet 使用铜线\n",
    "3. 手机无线网使用无线电"
   ]
  },
  {
   "cell_type": "markdown",
   "metadata": {},
   "source": [
    "物理媒介主要分为两个种类\n",
    "  1. guided media 导向型媒介 例如同轴电缆，双绞线\n",
    "  2. unguided media 非导向性媒介 例如无线网络，数字卫星"
   ]
  },
  {
   "cell_type": "markdown",
   "metadata": {},
   "source": [
    "一般guided media的材料成本较低，主要成本在人工成本上，因此开发商为了节约人工成本，通常会同时安装 双绞线，同轴电缆和光纤"
   ]
  },
  {
   "cell_type": "markdown",
   "metadata": {},
   "source": [
    "Twisted-Pair Copper Wire 双绞铜线\n",
    "\n",
    "- 成本最低，使用范围最广\n",
    "- 在电话网络中使用了100多年\n",
    "- 双绞线由两根绝缘铜线组成，每根大约1毫米，呈规则的螺旋状排列\n",
    "- 双绞线能够有效地减少周围的电磁干扰\n",
    "- 通常情况下一根电缆由多对双绞铜线组成，一对导线是一条通信链路\n",
    "- Unshielded twisted pair (UTP) 非屏蔽双绞线 主要用于局域网，使用双绞线的局域网速率在 10 Mbps 到 10 Gbps\n",
    "- 实际的双绞线的传输速率还和铜线的粗细以及传输的距离有关\n",
    "- 双绞线是高速局域网的主要解决方案\n",
    "- 6a类的双绞线能够达到10 Gbps 的传输速率\n"
   ]
  },
  {
   "cell_type": "markdown",
   "metadata": {},
   "source": [
    "Coaxial Cable 同轴电缆\n",
    "\n",
    "- 由两根同心的铜导体组成\n",
    "- 有特殊的绝缘性和屏蔽性，可以实现较高的网络传输速率\n",
    "- 同轴电缆在有线电视系统中很常见\n",
    "- 同轴电缆是一种共享媒介"
   ]
  },
  {
   "cell_type": "markdown",
   "metadata": {},
   "source": [
    "Fiber Optics 光纤\n",
    "\n",
    "- 是一种薄而轻便的媒介，主要传到光脉冲，每个脉冲代表一个bit\n",
    "- 单根光纤能够传输几十甚至几百G的bit传输速率\n",
    "- 不受电磁干扰，信号衰减低，可以传输几百公里\n",
    "- 正因为如此，在长距离例如跨海的网络连接上，光纤是首选\n",
    "- 光纤的成本高，因此不适用于短距离的网络传输，例如本地局域网\n",
    "- OC（Optical Carrier）标准链路的速率通常为 51.8Mbps 到 39.8 Gbps\n",
    "- 常见的标准有 OC-1, OC-3, OC-12, OC-24 速率分别为 N * 51.8"
   ]
  },
  {
   "cell_type": "markdown",
   "metadata": {},
   "source": [
    "Terrestrial Radio Channels 地面无线电频道\n",
    "\n",
    "- 无线电通道在电磁频谱中传输信号\n",
    "- 最大的优点就是不需要任何的物理电线，并且能够穿墙\n",
    "- 但是无线电容易收到干扰\n",
    "- 无线电大致可以分为 超短距离，中距离，超远距离\n",
    "- 超短距离例如蓝牙键盘、鼠标\n",
    "- 中距离例如本地无线网\n",
    "- 远距离例如手机的蜂窝网络"
   ]
  },
  {
   "cell_type": "markdown",
   "metadata": {},
   "source": [
    "Satellite Radio Channels 卫星无线电通道\n",
    "\n",
    "- ground station 地面基站\n",
    "- 主要分为\n",
    "  - geostationary satellites 地球静止卫星\n",
    "  - low-earth orbiting satellites 低轨卫星"
   ]
  }
 ],
 "metadata": {
  "language_info": {
   "name": "python"
  },
  "orig_nbformat": 4
 },
 "nbformat": 4,
 "nbformat_minor": 2
}

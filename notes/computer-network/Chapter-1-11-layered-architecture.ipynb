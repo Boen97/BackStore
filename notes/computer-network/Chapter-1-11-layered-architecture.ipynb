{
 "cells": [
  {
   "cell_type": "markdown",
   "metadata": {},
   "source": [
    "可以将互联网比喻成航空系统，他们都很复杂，并且都是将物件从一个地方转移到另一个地方"
   ]
  },
  {
   "cell_type": "markdown",
   "metadata": {},
   "source": [
    "分层的航空系统，每一层包括它下面的层，都为上层提供了服务"
   ]
  },
  {
   "cell_type": "markdown",
   "metadata": {},
   "source": [
    "**每一层都提供了自己的服务**\n",
    "**每一层都依赖了下层所提供的服务**"
   ]
  },
  {
   "cell_type": "markdown",
   "metadata": {},
   "source": [
    "**对于描述一个复杂系统，用分层的结构来思考是一个很好的思想**"
   ]
  }
 ],
 "metadata": {
  "language_info": {
   "name": "python"
  },
  "orig_nbformat": 4
 },
 "nbformat": 4,
 "nbformat_minor": 2
}

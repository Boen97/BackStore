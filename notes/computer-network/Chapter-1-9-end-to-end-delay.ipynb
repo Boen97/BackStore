{
 "cells": [
  {
   "cell_type": "markdown",
   "metadata": {},
   "source": [
    "单个节点存在的 delay = processing delay + queuing delay + transmission delay + propogation delay"
   ]
  },
  {
   "cell_type": "markdown",
   "metadata": {},
   "source": [
    "End to End Delay\n",
    "\n",
    "toal delay from source to destination"
   ]
  },
  {
   "cell_type": "markdown",
   "metadata": {},
   "source": [
    "假设端与端之间有 N-1 个路由器，queuing delay 忽略不计，那么端与端之间的总延迟为：\n",
    "dend-end = N(dproc + dtrans + dprop)"
   ]
  },
  {
   "cell_type": "markdown",
   "metadata": {},
   "source": [
    "其他的一些延迟：\n",
    "1. 有些共享媒介为了和别的终端共享此媒介，会有意延迟转发\n",
    "2. 像一些语音应用在转发前，存在打包延迟"
   ]
  }
 ],
 "metadata": {
  "language_info": {
   "name": "python"
  },
  "orig_nbformat": 4
 },
 "nbformat": 4,
 "nbformat_minor": 2
}

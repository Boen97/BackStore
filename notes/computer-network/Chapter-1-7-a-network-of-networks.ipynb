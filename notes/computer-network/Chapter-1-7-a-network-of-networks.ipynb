{
 "cells": [
  {
   "cell_type": "markdown",
   "metadata": {},
   "source": [
    "无数个小网络互相连接，组成了现在的大网络\n",
    "\n",
    "- Pop（points of presents）存在点\n",
    "- Internet Exchange Point (IXP)\n",
    "- Peer\n",
    "- Content providers\n",
    "\n",
    "- ISP 存在分级，且互相连接，为了降低连接的成本，底层的ISP之间会进行对等连接。\n",
    "- IXP 是一个提供给ISP进行对等连接的平台"
   ]
  }
 ],
 "metadata": {
  "language_info": {
   "name": "python"
  },
  "orig_nbformat": 4
 },
 "nbformat": 4,
 "nbformat_minor": 2
}

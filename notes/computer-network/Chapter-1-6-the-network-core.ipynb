{
 "cells": [
  {
   "cell_type": "markdown",
   "metadata": {},
   "source": [
    "The mesh of packet switches and links that interconnects the internet's end systems\n",
    "连接互联网终端的网络是由包交换机和链路组成的"
   ]
  },
  {
   "cell_type": "markdown",
   "metadata": {},
   "source": [
    "Packet Switching\n",
    "\n",
    "- messages 网络中最主要的就是消息的传递\n",
    "- message 可以包含 control function 或者 data\n",
    "- packets\n",
    "  在传递的时候需要将messages 分为小块的数据，称为 packets\n",
    "- L / R\n",
    "  L bits 长的packets，链路的传输速率为 R bits/sec"
   ]
  },
  {
   "cell_type": "markdown",
   "metadata": {},
   "source": [
    "Store-and-forward transmission\n",
    "\n",
    "- 大多数的包交换机使用 store-and-forward transmission 的机制\n",
    "- **这种机制意味着必须先接受整个packet，才能进行下一步的转发**\n",
    "- propagation delay bits 在 link中传播的时间\n",
    "- routers 需要在转发前 接受、存储、处理完整的数据包\n",
    "- 假设转发的速率为 R bps, 包的长度为 L bits，那么一个包 经过 N 条链路（N - 1个路由）到达目的地所使用的时间为\n",
    "  d = N * ( L / R)\n",
    "- 需要值得注意的是，一个packet的延迟很好算，因为没有多个包在队列中的延迟"
   ]
  },
  {
   "cell_type": "markdown",
   "metadata": {},
   "source": [
    "Queuing delays and packet loss\n",
    "\n",
    "- output buffer\n",
    "  - packet switch 有多条link, 每条 link 对应一个 output link\n",
    "- queuing delays\n",
    "  - 当一个包发现当前链路没有空闲时，正在转发别的包时，就必须被放入缓冲区中等待，因此就存在了 queuing delays\n",
    "- packet loss\n",
    "  - 当缓冲区满了以后，当有新的包到达时，就会有包被丢弃，要么是新到的，要么是缓冲区里面的，因此就发生了丢包\n",
    "  - 因此我们常说的丢包率，主要用于说明往前的网络流量是否超过了路由器或者交换机的处理能力\n",
    "- 当路由器接受的包要多于转发的包时，就发生了所谓的网络堵塞，就会发生包丢失"
   ]
  },
  {
   "cell_type": "markdown",
   "metadata": {},
   "source": [
    "Forwarding tables and routing protocols\n",
    "\n",
    "- 每个终端都有一个IP地址，和我们普通的快递地址一样，这个地址是分级的，每到一个路由器的时候，路由器都会根据它的 forward table 转发表转发数据\n",
    "- 路由器就像你问路一样，一级一级地问下去，最终就找到了\n",
    "- 互联网使用 routing protoclos 来自动地生成转发表"
   ]
  },
  {
   "cell_type": "markdown",
   "metadata": {},
   "source": [
    "Circuit Switching\n",
    "\n",
    "- 在网络中转发数据通常有两种方式\n",
    "  1. circuit switching 电路交换，例如我们的电话网络\n",
    "  2. packet switching\n",
    "\n",
    "- 拿一个比喻来区分电路交换和包交换，饭店是否需要预定\n",
    "  1. 电路交换的方式就是一家饭店需要预定，你需要提前打电话预定资源，因此常见的我们会有占线的说法，因为通常来说一条电路代表着一个资源\n",
    "  2. 电话交换，会一直占用资源，因此能够提供稳定的传输速率\n",
    "  3. 而包交换网络，是尽最大努力的传输数据，没有任何实际的保证"
   ]
  },
  {
   "cell_type": "markdown",
   "metadata": {},
   "source": [
    "Multiplexing in Circuit-switched network\n",
    "\n",
    "- FDM (frequency division multiplexing)\n",
    "  - 平分带宽\n",
    "- TDM (time-division multiplexing)\n",
    "  - 使用整个带宽，平分使用时间\n",
    "\n",
    "- 电路交换的一大缺点就是会造成资源的浪费"
   ]
  },
  {
   "cell_type": "markdown",
   "metadata": {},
   "source": [
    "Packet switch vs circuit switch\n",
    "\n",
    "1. packet switch 能够支持更多的并发用户\n",
    "2. 能够最大化资源的利用率\n",
    "3. 一般电信网络采用 package switch 来实现昂贵的跨国电话"
   ]
  }
 ],
 "metadata": {
  "language_info": {
   "name": "python"
  },
  "orig_nbformat": 4
 },
 "nbformat": 4,
 "nbformat_minor": 2
}

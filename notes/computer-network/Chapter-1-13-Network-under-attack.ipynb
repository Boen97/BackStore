{
 "cells": [
  {
   "cell_type": "markdown",
   "metadata": {},
   "source": [
    "Put Malware into your host via internet\n",
    "\n",
    "- malware 恶意软件\n",
    "- botnet 僵尸网络\n",
    "- self replicating 自我复制"
   ]
  },
  {
   "cell_type": "markdown",
   "metadata": {},
   "source": [
    "Attack Servers and network infrastructure\n",
    "\n",
    "- DoS(denial of service)\n",
    "  1. Vulnerability Attack 漏洞攻击\n",
    "  2. Bandwidth flooding\n",
    "  3. Connection flooding.\n",
    "- website Digital Attack Map\n",
    "- DDoS(distribute Doc)\n",
    "- BandWidth Flooding 和 Connection Flooding 都需要满足 攻击的能量要大于服务器所能承受的能量"
   ]
  }
 ],
 "metadata": {
  "language_info": {
   "name": "python"
  },
  "orig_nbformat": 4
 },
 "nbformat": 4,
 "nbformat_minor": 2
}

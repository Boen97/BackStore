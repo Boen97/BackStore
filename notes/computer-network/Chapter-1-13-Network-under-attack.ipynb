{
 "cells": [
  {
   "cell_type": "markdown",
   "metadata": {},
   "source": [
    "Put Malware into your host via internet\n",
    "\n",
    "- malware 恶意软件\n",
    "- botnet 僵尸网络\n",
    "- self replicating 自我复制"
   ]
  },
  {
   "cell_type": "markdown",
   "metadata": {},
   "source": [
    "Attack Servers and network infrastructure\n",
    "\n",
    "- DoS(denial of service)\n",
    "  1. Vulnerability Attack 漏洞攻击\n",
    "  2. Bandwidth flooding\n",
    "  3. Connection flooding.\n",
    "- website Digital Attack Map\n",
    "- DDoS(distribute Doc)\n",
    "- BandWidth Flooding 和 Connection Flooding 都需要满足 攻击的能量要大于服务器所能承受的能量"
   ]
  },
  {
   "cell_type": "markdown",
   "metadata": {},
   "source": [
    "Sniff Packets\n",
    "\n",
    "- passive receiver 被动接受器\n",
    "- 使用加密可以解决包嗅探的问题\n"
   ]
  },
  {
   "cell_type": "markdown",
   "metadata": {},
   "source": [
    "Masquerade as Someone You Trust 伪装\n",
    "\n",
    "- IP spoofing 将带有虚假源地址的包注入互联网的能力\n",
    "- end-point authentication 端点验证，验证packet的可行性"
   ]
  },
  {
   "cell_type": "markdown",
   "metadata": {},
   "source": [
    "- 互联网在建立之初就是建立在互相信任的基础上建立的"
   ]
  }
 ],
 "metadata": {
  "language_info": {
   "name": "python"
  },
  "orig_nbformat": 4
 },
 "nbformat": 4,
 "nbformat_minor": 2
}
